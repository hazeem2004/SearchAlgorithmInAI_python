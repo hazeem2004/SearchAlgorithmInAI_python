{
  "nbformat": 4,
  "nbformat_minor": 0,
  "metadata": {
    "colab": {
      "provenance": []
    },
    "kernelspec": {
      "name": "python3",
      "display_name": "Python 3"
    },
    "language_info": {
      "name": "python"
    }
  },
  "cells": [
    {
      "cell_type": "code",
      "execution_count": 1,
      "metadata": {
        "colab": {
          "base_uri": "https://localhost:8080/"
        },
        "id": "Gdiucc0qDm61",
        "outputId": "5d872585-8d04-4913-f13d-53657809c5d9"
      },
      "outputs": [
        {
          "output_type": "stream",
          "name": "stdout",
          "text": [
            "UCS Path: ['A', 'B', 'C', 'D'], Cost: 4\n"
          ]
        }
      ],
      "source": [
        "import heapq\n",
        "\n",
        "def uniform_cost_search(graph, start, goal):\n",
        "    # Priority queue to store (cost, node, path)\n",
        "    priority_queue = [(0, start, [])]\n",
        "    visited = set()\n",
        "\n",
        "    while priority_queue:\n",
        "        cost, node, path = heapq.heappop(priority_queue)\n",
        "\n",
        "        if node in visited:\n",
        "            continue\n",
        "\n",
        "        path = path + [node]\n",
        "        visited.add(node)\n",
        "\n",
        "        # Goal check\n",
        "        if node == goal:\n",
        "            return path, cost\n",
        "\n",
        "        # Expand neighbors\n",
        "        for neighbor, edge_cost in graph.get(node, []):\n",
        "            if neighbor not in visited:\n",
        "                heapq.heappush(priority_queue, (cost + edge_cost, neighbor, path))\n",
        "\n",
        "    return \"No path found\", float('inf')\n",
        "\n",
        "# Example Graph\n",
        "graph = {\n",
        "    'A': [('B', 1), ('C', 4)],\n",
        "    'B': [('C', 2), ('D', 5)],\n",
        "    'C': [('D', 1)],\n",
        "    'D': []\n",
        "}\n",
        "\n",
        "# Run UCS\n",
        "start, goal = 'A', 'D'\n",
        "path, cost = uniform_cost_search(graph, start, goal)\n",
        "print(f\"UCS Path: {path}, Cost: {cost}\")\n"
      ]
    },
    {
      "cell_type": "code",
      "source": [
        "def a_star_search(graph, start, goal, heuristic):\n",
        "    priority_queue = [(0 + heuristic[start], 0, start, [])]  # (f(n), g(n), node, path)\n",
        "    visited = set()\n",
        "\n",
        "    while priority_queue:\n",
        "        f, cost, node, path = heapq.heappop(priority_queue)\n",
        "\n",
        "        if node in visited:\n",
        "            continue\n",
        "\n",
        "        path = path + [node]\n",
        "        visited.add(node)\n",
        "\n",
        "        # Goal check\n",
        "        if node == goal:\n",
        "            return path, cost\n",
        "\n",
        "        # Expand neighbors\n",
        "        for neighbor, edge_cost in graph.get(node, []):\n",
        "            if neighbor not in visited:\n",
        "                g = cost + edge_cost\n",
        "                f = g + heuristic[neighbor]\n",
        "                heapq.heappush(priority_queue, (f, g, neighbor, path))\n",
        "\n",
        "    return \"No path found\", float('inf')\n",
        "\n",
        "# Example Graph (Same as UCS)\n",
        "graph = {\n",
        "    'A': [('B', 1), ('C', 4)],\n",
        "    'B': [('C', 2), ('D', 5)],\n",
        "    'C': [('D', 1)],\n",
        "    'D': []\n",
        "}\n",
        "\n",
        "# Heuristic (Estimated distance to goal)\n",
        "heuristic = {\n",
        "    'A': 7, 'B': 6, 'C': 2, 'D': 0\n",
        "}\n",
        "\n",
        "# Run A*\n",
        "start, goal = 'A', 'D'\n",
        "path, cost = a_star_search(graph, start, goal, heuristic)\n",
        "print(f\"A* Path: {path}, Cost: {cost}\")\n"
      ],
      "metadata": {
        "colab": {
          "base_uri": "https://localhost:8080/"
        },
        "id": "AWJCHIREDnsD",
        "outputId": "556de5fc-3cf7-4dcb-c8bf-74316e6907e1"
      },
      "execution_count": 2,
      "outputs": [
        {
          "output_type": "stream",
          "name": "stdout",
          "text": [
            "A* Path: ['A', 'C', 'D'], Cost: 5\n"
          ]
        }
      ]
    },
    {
      "cell_type": "code",
      "source": [
        "from collections import deque\n",
        "\n",
        "# BFS Implementation\n",
        "def bfs(graph, start, goal):\n",
        "    queue = deque([(start, [])])\n",
        "    visited = set()\n",
        "\n",
        "    while queue:\n",
        "        node, path = queue.popleft()\n",
        "        if node in visited:\n",
        "            continue\n",
        "        path = path + [node]\n",
        "        visited.add(node)\n",
        "\n",
        "        if node == goal:\n",
        "            return path, len(visited)\n",
        "\n",
        "        for neighbor, _ in graph.get(node, []):\n",
        "            if neighbor not in visited:\n",
        "                queue.append((neighbor, path))\n",
        "\n",
        "    return \"No path\", len(visited)\n",
        "\n",
        "# DFS Implementation\n",
        "def dfs(graph, start, goal):\n",
        "    stack = [(start, [])]\n",
        "    visited = set()\n",
        "\n",
        "    while stack:\n",
        "        node, path = stack.pop()\n",
        "        if node in visited:\n",
        "            continue\n",
        "        path = path + [node]\n",
        "        visited.add(node)\n",
        "\n",
        "        if node == goal:\n",
        "            return path, len(visited)\n",
        "\n",
        "        for neighbor, _ in reversed(graph.get(node, [])):\n",
        "            if neighbor not in visited:\n",
        "                stack.append((neighbor, path))\n",
        "\n",
        "    return \"No path\", len(visited)\n",
        "\n",
        "# Run all searches\n",
        "start, goal = 'A', 'D'\n",
        "\n",
        "dfs_path, dfs_expanded = dfs(graph, start, goal)\n",
        "bfs_path, bfs_expanded = bfs(graph, start, goal)\n",
        "ucs_path, ucs_cost = uniform_cost_search(graph, start, goal)\n",
        "ucs_expanded = len(set(ucs_path)) if isinstance(ucs_path, list) else 0\n",
        "a_star_path, a_star_cost = a_star_search(graph, start, goal, heuristic)\n",
        "a_star_expanded = len(set(a_star_path)) if isinstance(a_star_path, list) else 0\n",
        "\n",
        "# Compare Results\n",
        "print(\"\\nComparison of Algorithms:\")\n",
        "print(f\"DFS: Path = {dfs_path}, Nodes Expanded = {dfs_expanded}\")\n",
        "print(f\"BFS: Path = {bfs_path}, Nodes Expanded = {bfs_expanded}\")\n",
        "print(f\"UCS: Path = {ucs_path}, Cost = {ucs_cost}, Nodes Expanded = {ucs_expanded}\")\n",
        "print(f\"A*: Path = {a_star_path}, Cost = {a_star_cost}, Nodes Expanded = {a_star_expanded}\")\n"
      ],
      "metadata": {
        "colab": {
          "base_uri": "https://localhost:8080/"
        },
        "id": "-85rGfPzDoo2",
        "outputId": "7391f725-6785-4a35-83a1-cc81b0466a7e"
      },
      "execution_count": 3,
      "outputs": [
        {
          "output_type": "stream",
          "name": "stdout",
          "text": [
            "\n",
            "Comparison of Algorithms:\n",
            "DFS: Path = ['A', 'B', 'C', 'D'], Nodes Expanded = 4\n",
            "BFS: Path = ['A', 'B', 'D'], Nodes Expanded = 4\n",
            "UCS: Path = ['A', 'B', 'C', 'D'], Cost = 4, Nodes Expanded = 4\n",
            "A*: Path = ['A', 'C', 'D'], Cost = 5, Nodes Expanded = 3\n"
          ]
        }
      ]
    }
  ]
}